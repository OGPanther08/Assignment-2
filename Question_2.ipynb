{
  "nbformat": 4,
  "nbformat_minor": 0,
  "metadata": {
    "colab": {
      "provenance": [],
      "authorship_tag": "ABX9TyN/2o99LEejEglsFccANf3e",
      "include_colab_link": true
    },
    "kernelspec": {
      "name": "python3",
      "display_name": "Python 3"
    },
    "language_info": {
      "name": "python"
    }
  },
  "cells": [
    {
      "cell_type": "markdown",
      "metadata": {
        "id": "view-in-github",
        "colab_type": "text"
      },
      "source": [
        "<a href=\"https://colab.research.google.com/github/OGPanther08/Assignment-2/blob/main/Question_2.ipynb\" target=\"_parent\"><img src=\"https://colab.research.google.com/assets/colab-badge.svg\" alt=\"Open In Colab\"/></a>"
      ]
    },
    {
      "cell_type": "code",
      "execution_count": null,
      "metadata": {
        "colab": {
          "base_uri": "https://localhost:8080/"
        },
        "id": "EleCkF3vk9lg",
        "outputId": "1d32ea2e-040f-458c-d0c3-af57172254ab"
      },
      "outputs": [
        {
          "output_type": "stream",
          "name": "stdout",
          "text": [
            "1   20\n",
            "3   40\n",
            "5   60\n",
            "7   80\n",
            "9   100\n"
          ]
        }
      ],
      "source": [
        "#Question 3\n",
        "#Creating the array\n",
        "my_list = [10,20,30,40,50,60,70,80,90,100]\n",
        "#Loop for printing each odd index\n",
        "for i in range(1, len(my_list), 2):\n",
        "  print(i, ' ', my_list[i])"
      ]
    }
  ]
}