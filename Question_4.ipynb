{
  "nbformat": 4,
  "nbformat_minor": 0,
  "metadata": {
    "colab": {
      "provenance": [],
      "authorship_tag": "ABX9TyOpkAwRAtVDm16WyIhTMtNq",
      "include_colab_link": true
    },
    "kernelspec": {
      "name": "python3",
      "display_name": "Python 3"
    },
    "language_info": {
      "name": "python"
    }
  },
  "cells": [
    {
      "cell_type": "markdown",
      "metadata": {
        "id": "view-in-github",
        "colab_type": "text"
      },
      "source": [
        "<a href=\"https://colab.research.google.com/github/OGPanther08/Assignment-2/blob/main/Question_4.ipynb\" target=\"_parent\"><img src=\"https://colab.research.google.com/assets/colab-badge.svg\" alt=\"Open In Colab\"/></a>"
      ]
    },
    {
      "cell_type": "code",
      "execution_count": null,
      "metadata": {
        "colab": {
          "base_uri": "https://localhost:8080/"
        },
        "id": "aQaSpwY5o-D7",
        "outputId": "5fb0571c-4208-41ba-f768-a56c63284f58"
      },
      "outputs": [
        {
          "output_type": "stream",
          "name": "stdout",
          "text": [
            "Sample List:  [1, 2, 3, 3, 3, 3, 4, 5]\n",
            "Unique List:  [1, 2, 3, 4, 5]\n"
          ]
        }
      ],
      "source": [
        "#Question 4\n",
        "def new_list(input):\n",
        "  return list(set(input))\n",
        "\n",
        "sample = [1,2,3,3,3,3,4,5]\n",
        "new = new_list(sample)\n",
        "print(\"Sample List: \", sample)\n",
        "print(\"Unique List: \", new)"
      ]
    }
  ]
}