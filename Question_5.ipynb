{
  "nbformat": 4,
  "nbformat_minor": 0,
  "metadata": {
    "colab": {
      "provenance": [],
      "authorship_tag": "ABX9TyMuCWnRTC6KfUJxuNzc4GFT",
      "include_colab_link": true
    },
    "kernelspec": {
      "name": "python3",
      "display_name": "Python 3"
    },
    "language_info": {
      "name": "python"
    }
  },
  "cells": [
    {
      "cell_type": "markdown",
      "metadata": {
        "id": "view-in-github",
        "colab_type": "text"
      },
      "source": [
        "<a href=\"https://colab.research.google.com/github/OGPanther08/Assignment-2/blob/main/Question_5.ipynb\" target=\"_parent\"><img src=\"https://colab.research.google.com/assets/colab-badge.svg\" alt=\"Open In Colab\"/></a>"
      ]
    },
    {
      "cell_type": "code",
      "execution_count": 1,
      "metadata": {
        "colab": {
          "base_uri": "https://localhost:8080/"
        },
        "id": "w6kjeyVNunSK",
        "outputId": "3992a7b6-d59b-4d70-b1ff-f4bfc77828cc"
      },
      "outputs": [
        {
          "output_type": "stream",
          "name": "stdout",
          "text": [
            "Number of Upper-case characters: 3\n",
            "Number of Lower-case characters: 12\n"
          ]
        }
      ],
      "source": [
        "#Question 5\n",
        "def count_char(input):\n",
        "  upper = 0\n",
        "  lower = 0\n",
        "  for char in input:\n",
        "    if char.isupper():\n",
        "      upper += 1\n",
        "    elif char.islower():\n",
        "      lower += 1\n",
        "  print(\"Number of Upper-case characters:\", upper)\n",
        "  print(\"Number of Lower-case characters:\", lower)\n",
        "\n",
        "input = 'The quick Brow Fox'\n",
        "count_char(input)"
      ]
    }
  ]
}