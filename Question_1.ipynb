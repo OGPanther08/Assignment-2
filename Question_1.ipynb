{
  "nbformat": 4,
  "nbformat_minor": 0,
  "metadata": {
    "colab": {
      "provenance": [],
      "authorship_tag": "ABX9TyOEQBMEwY5zaE9QsY62Gvvt",
      "include_colab_link": true
    },
    "kernelspec": {
      "name": "python3",
      "display_name": "Python 3"
    },
    "language_info": {
      "name": "python"
    }
  },
  "cells": [
    {
      "cell_type": "markdown",
      "metadata": {
        "id": "view-in-github",
        "colab_type": "text"
      },
      "source": [
        "<a href=\"https://colab.research.google.com/github/OGPanther08/Assignment-2/blob/main/Question_1.ipynb\" target=\"_parent\"><img src=\"https://colab.research.google.com/assets/colab-badge.svg\" alt=\"Open In Colab\"/></a>"
      ]
    },
    {
      "cell_type": "code",
      "execution_count": null,
      "metadata": {
        "colab": {
          "base_uri": "https://localhost:8080/"
        },
        "id": "xBLxEnuTjDFh",
        "outputId": "5662c303-5959-447e-fb4b-cf5bcdd3a897"
      },
      "outputs": [
        {
          "output_type": "stream",
          "name": "stdout",
          "text": [
            "* \n",
            "* * \n",
            "* * * \n",
            "* * * * \n",
            "* * * * * \n",
            "* * * * \n",
            "* * * \n",
            "* * \n",
            "* \n"
          ]
        }
      ],
      "source": [
        "#Question 1\n",
        "#Creating loop to write first 5 lines(increasing)\n",
        "for i in range(5):\n",
        "  for j in range(i + 1):\n",
        "    print('*', end=' ')\n",
        "  print()\n",
        "#Creating loop to write the last 4 lines (decreasing)\n",
        "for i in range(4):\n",
        "  for j in range(4-i):\n",
        "    print('*', end=' ')\n",
        "  print()\n",
        "\n",
        "\n"
      ]
    }
  ]
}